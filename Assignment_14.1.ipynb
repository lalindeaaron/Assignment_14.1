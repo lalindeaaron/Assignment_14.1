{
 "cells": [
  {
   "cell_type": "code",
   "execution_count": 1,
   "metadata": {},
   "outputs": [],
   "source": [
    "import sqlalchemy\n",
    "import pandas as pd\n",
    "from sqlalchemy import create_engine"
   ]
  },
  {
   "cell_type": "code",
   "execution_count": 8,
   "metadata": {},
   "outputs": [],
   "source": [
    "#functions:\n",
    "\n",
    "def results(q):\n",
    "    result = engine.execute(q)\n",
    "    for row in result:\n",
    "        print(\"Results:\",row)\n",
    "        "
   ]
  },
  {
   "cell_type": "markdown",
   "metadata": {},
   "source": [
    "Setting up sql alchemy"
   ]
  },
  {
   "cell_type": "code",
   "execution_count": 4,
   "metadata": {},
   "outputs": [],
   "source": [
    "# setting up the database:      \n",
    "df = pd.read_csv('https://archive.ics.uci.edu/ml/machine-learning-databases/adult/adult.data',sep=\",\",header=None)\n",
    "df.columns=['age','workclass','fnlwgt','education','educationNum','marital-status','occupation','relationship','race',\n",
    "            'sex','capital-gain','capital-loss','hours-per-week','native-country','income']\n",
    "engine = create_engine('sqlite:///sqlHW2.db')\n",
    "df.to_sql('TableOne', engine)"
   ]
  },
  {
   "cell_type": "markdown",
   "metadata": {},
   "source": [
    "Question 1:"
   ]
  },
  {
   "cell_type": "code",
   "execution_count": 9,
   "metadata": {},
   "outputs": [
    {
     "name": "stdout",
     "output_type": "stream",
     "text": [
      "Results: (0, 39, ' State-gov', 77516, ' Bachelors', 13, ' Never-married', ' Adm-clerical', ' Not-in-family', ' White', ' Male', 2174, 0, 40, ' United-States', ' <=50K')\n",
      "Results: (1, 50, ' Self-emp-not-inc', 83311, ' Bachelors', 13, ' Married-civ-spouse', ' Exec-managerial', ' Husband', ' White', ' Male', 0, 0, 13, ' United-States', ' <=50K')\n",
      "Results: (2, 38, ' Private', 215646, ' HS-grad', 9, ' Divorced', ' Handlers-cleaners', ' Not-in-family', ' White', ' Male', 0, 0, 40, ' United-States', ' <=50K')\n",
      "Results: (3, 53, ' Private', 234721, ' 11th', 7, ' Married-civ-spouse', ' Handlers-cleaners', ' Husband', ' Black', ' Male', 0, 0, 40, ' United-States', ' <=50K')\n",
      "Results: (4, 28, ' Private', 338409, ' Bachelors', 13, ' Married-civ-spouse', ' Prof-specialty', ' Wife', ' Black', ' Female', 0, 0, 40, ' Cuba', ' <=50K')\n",
      "None\n"
     ]
    }
   ],
   "source": [
    "print(results(\"select * from TableOne Limit 5;\"))"
   ]
  },
  {
   "cell_type": "markdown",
   "metadata": {},
   "source": [
    "Question 2: Write two basic update queries"
   ]
  },
  {
   "cell_type": "code",
   "execution_count": 11,
   "metadata": {},
   "outputs": [
    {
     "name": "stdout",
     "output_type": "stream",
     "text": [
      "Before Updating the data for gender and education:\n",
      "Results: (0, 39, ' State-gov', 77516, ' Bachelors', 13, ' Never-married', ' Adm-clerical', ' Not-in-family', ' White', ' Male', 2174, 0, 40, ' United-States', ' <=50K')\n"
     ]
    }
   ],
   "source": [
    "print(\"Before Updating the data for gender and education:\")\n",
    "results(\"select * from TableOne where fnlwgt=77516;\")"
   ]
  },
  {
   "cell_type": "code",
   "execution_count": 13,
   "metadata": {},
   "outputs": [
    {
     "name": "stdout",
     "output_type": "stream",
     "text": [
      "Updating the data for gender Male to Female and educationNum 13 to 25: \n",
      "Results: (0, 39, ' State-gov', 77516, ' Bachelors', 25, ' Never-married', ' Adm-clerical', ' Not-in-family', ' White', 'Female', 2174, 0, 40, ' United-States', ' <=50K')\n"
     ]
    }
   ],
   "source": [
    "print(\"Updating the data for gender Male to Female and educationNum 13 to 25: \")\n",
    "engine.execute(\"UPDATE TableOne SET sex = 'Female' where fnlwgt=77516;\")\n",
    "engine.execute(\"UPDATE TableOne SET educationNum = 25 where fnlwgt=77516\")\n",
    "results(\"select * from TableOne where fnlwgt=77516;\")"
   ]
  },
  {
   "cell_type": "markdown",
   "metadata": {},
   "source": [
    "Question 3:"
   ]
  },
  {
   "cell_type": "code",
   "execution_count": 14,
   "metadata": {},
   "outputs": [
    {
     "name": "stdout",
     "output_type": "stream",
     "text": [
      "Before deleting any data: \n",
      "Results: (0, 39, ' State-gov', 77516, ' Bachelors', 25, ' Never-married', ' Adm-clerical', ' Not-in-family', ' White', 'Female', 2174, 0, 40, ' United-States', ' <=50K')\n",
      "Results: (27532, 28, ' Private', 285294, ' Bachelors', 13, ' Married-civ-spouse', ' Sales', ' Wife', ' Black', ' Female', 15024, 0, 45, ' United-States', ' >50K')\n"
     ]
    }
   ],
   "source": [
    "print(\"Before deleting any data: \")\n",
    "results(\"select * from TableOne where fnlwgt in(77516,285294);\")"
   ]
  },
  {
   "cell_type": "code",
   "execution_count": 16,
   "metadata": {},
   "outputs": [
    {
     "name": "stdout",
     "output_type": "stream",
     "text": [
      "After deleting data: \n"
     ]
    },
    {
     "data": {
      "text/plain": [
       "<sqlalchemy.engine.result.ResultProxy at 0x2227d875390>"
      ]
     },
     "execution_count": 16,
     "metadata": {},
     "output_type": "execute_result"
    }
   ],
   "source": [
    "print(\"After deleting data: \")\n",
    "engine.execute(\"delete from TableOne where fnlwgt in(77516);\")\n",
    "engine.execute(\"delete from TableOne where age=28 and education=' Bachelors' and sex=' Female' and race=' Black' and relationship=' Wife' and occupation=' Sales';\")"
   ]
  },
  {
   "cell_type": "code",
   "execution_count": 19,
   "metadata": {},
   "outputs": [],
   "source": [
    "a=results(\"select * from TableOne where fnlwgt in(77516,285294);\")"
   ]
  },
  {
   "cell_type": "code",
   "execution_count": 20,
   "metadata": {},
   "outputs": [
    {
     "name": "stdout",
     "output_type": "stream",
     "text": [
      "None\n"
     ]
    }
   ],
   "source": [
    "print(a)"
   ]
  },
  {
   "cell_type": "markdown",
   "metadata": {},
   "source": [
    "Question 4:"
   ]
  },
  {
   "cell_type": "code",
   "execution_count": 21,
   "metadata": {},
   "outputs": [
    {
     "name": "stdout",
     "output_type": "stream",
     "text": [
      "Results: (100, 76, ' Private', 124191, ' Masters', 14, ' Married-civ-spouse', ' Exec-managerial', ' Husband', ' White', ' Male', 0, 0, 40, ' United-States', ' >50K')\n"
     ]
    }
   ],
   "source": [
    "results(\"select * from TableOne where fnlwgt in(99928,124191) and sex=' Male';\")"
   ]
  },
  {
   "cell_type": "code",
   "execution_count": 22,
   "metadata": {},
   "outputs": [
    {
     "name": "stdout",
     "output_type": "stream",
     "text": [
      "Results: (1341, 57, ' Private', 89392, ' Masters', 14, ' Married-spouse-absent', ' Prof-specialty', ' Not-in-family', ' White', ' Female', 0, 0, 40, ' United-States', ' <=50K')\n"
     ]
    }
   ],
   "source": [
    "results(\"select * from TableOne where sex=' Female' and fnlwgt LIKE '%89392%';\")"
   ]
  },
  {
   "cell_type": "markdown",
   "metadata": {},
   "source": [
    "Question 5:"
   ]
  },
  {
   "cell_type": "code",
   "execution_count": 23,
   "metadata": {},
   "outputs": [
    {
     "name": "stdout",
     "output_type": "stream",
     "text": [
      "Results: (1256190,)\n"
     ]
    }
   ],
   "source": [
    "results(\"select sum(age) from TableOne;\")"
   ]
  },
  {
   "cell_type": "code",
   "execution_count": 24,
   "metadata": {},
   "outputs": [
    {
     "name": "stdout",
     "output_type": "stream",
     "text": [
      "Results: (39.433567396392675,)\n"
     ]
    }
   ],
   "source": [
    "results(\"select avg(age) from TableOne where sex=' Male';\")"
   ]
  }
 ],
 "metadata": {
  "kernelspec": {
   "display_name": "Python 3",
   "language": "python",
   "name": "python3"
  },
  "language_info": {
   "codemirror_mode": {
    "name": "ipython",
    "version": 3
   },
   "file_extension": ".py",
   "mimetype": "text/x-python",
   "name": "python",
   "nbconvert_exporter": "python",
   "pygments_lexer": "ipython3",
   "version": "3.6.4"
  }
 },
 "nbformat": 4,
 "nbformat_minor": 2
}
